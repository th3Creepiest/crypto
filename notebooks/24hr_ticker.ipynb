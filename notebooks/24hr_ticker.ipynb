{
 "cells": [
  {
   "cell_type": "code",
   "execution_count": 1,
   "metadata": {},
   "outputs": [],
   "source": [
    "import os\n",
    "import sys\n",
    "\n",
    "project_path = os.path.abspath(os.path.join(os.getcwd(), \"..\"))\n",
    "\n",
    "if project_path not in sys.path:\n",
    "    sys.path.append(project_path)\n",
    "\n",
    "from binance import get_24hr_ticker"
   ]
  },
  {
   "cell_type": "code",
   "execution_count": 2,
   "metadata": {},
   "outputs": [],
   "source": [
    "ticker = get_24hr_ticker(request_type=\"FULL\")"
   ]
  },
  {
   "cell_type": "code",
   "execution_count": 3,
   "metadata": {},
   "outputs": [],
   "source": [
    "coins = [coin for coin in ticker if coin[\"symbol\"].endswith(\"USDT\")]\n",
    "coins = [{k: float(v) if k == \"priceChangePercent\" else v for k, v in d.items()} for d in coins]\n",
    "coins = sorted(coins, key=lambda coin: coin[\"priceChangePercent\"], reverse=True)"
   ]
  },
  {
   "cell_type": "code",
   "execution_count": 4,
   "metadata": {},
   "outputs": [
    {
     "name": "stdout",
     "output_type": "stream",
     "text": [
      "FUNUSDT \t 0.00363500 \t 58.112\n",
      "VIDTUSDT \t 0.02291000 \t 24.511\n",
      "TUTUSDT \t 0.04697000 \t 19.547\n",
      "BNXUSDT \t 1.78190000 \t 14.115\n",
      "MLNUSDT \t 9.36000000 \t 8.333\n",
      "TSTUSDT \t 0.06900000 \t 8.15\n",
      "LAYERUSDT \t 1.41900000 \t 5.447\n",
      "VELODROMEUSDT \t 0.05650000 \t 4.63\n",
      "VIBUSDT \t 0.04034000 \t 4.427\n",
      "OGUSDT \t\t 4.31500000 \t 4.328\n"
     ]
    }
   ],
   "source": [
    "for coin in coins[:10]:\n",
    "    symbol = str(coin[\"symbol\"])\n",
    "    delimiter = \"\\t\" if len(symbol) > 6 else \"\\t\\t\"\n",
    "    print(symbol, delimiter, coin[\"lastPrice\"], \"\\t\", coin[\"priceChangePercent\"])"
   ]
  },
  {
   "cell_type": "code",
   "execution_count": 5,
   "metadata": {},
   "outputs": [
    {
     "name": "stdout",
     "output_type": "stream",
     "text": [
      "ASTUSDT \t 0.02610000 \t -12.121\n",
      "ORCAUSDT \t 2.37400000 \t -12.656\n",
      "THEUSDT \t 0.30450000 \t -13.05\n",
      "SHELLUSDT \t 0.22200000 \t -13.112\n",
      "BELUSDT \t 0.64470000 \t -16.673\n",
      "MUBARAKUSDT \t 0.06980000 \t -17.979\n",
      "PARTIUSDT \t 0.25630000 \t -19.453\n",
      "LINAUSDT \t 0.00033700 \t -53.453\n",
      "COMBOUSDT \t 0.02760000 \t -59.412\n",
      "BURGERUSDT \t 0.01720000 \t -68.727\n"
     ]
    }
   ],
   "source": [
    "for coin in coins[-10:]:\n",
    "    symbol = str(coin[\"symbol\"])\n",
    "    delimiter = \"\\t\" if len(symbol) > 6 else \"\\t\\t\"\n",
    "    print(symbol, delimiter, coin[\"lastPrice\"], \"\\t\", coin[\"priceChangePercent\"])"
   ]
  }
 ],
 "metadata": {
  "kernelspec": {
   "display_name": ".venv",
   "language": "python",
   "name": "python3"
  },
  "language_info": {
   "codemirror_mode": {
    "name": "ipython",
    "version": 3
   },
   "file_extension": ".py",
   "mimetype": "text/x-python",
   "name": "python",
   "nbconvert_exporter": "python",
   "pygments_lexer": "ipython3",
   "version": "3.13.1"
  }
 },
 "nbformat": 4,
 "nbformat_minor": 2
}
