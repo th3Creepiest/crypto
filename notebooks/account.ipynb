{
 "cells": [
  {
   "cell_type": "code",
   "execution_count": 1,
   "metadata": {},
   "outputs": [],
   "source": [
    "import os\n",
    "import sys\n",
    "\n",
    "project_path = os.path.abspath(os.path.join(os.getcwd(), \"..\"))\n",
    "\n",
    "if project_path not in sys.path:\n",
    "    sys.path.append(project_path)\n",
    "\n",
    "from binance import get_account_info"
   ]
  },
  {
   "cell_type": "code",
   "execution_count": 2,
   "metadata": {},
   "outputs": [
    {
     "data": {
      "text/plain": [
       "{'makerCommission': 10,\n",
       " 'takerCommission': 10,\n",
       " 'buyerCommission': 0,\n",
       " 'sellerCommission': 0,\n",
       " 'commissionRates': {'maker': '0.00100000',\n",
       "  'taker': '0.00100000',\n",
       "  'buyer': '0.00000000',\n",
       "  'seller': '0.00000000'},\n",
       " 'canTrade': True,\n",
       " 'canWithdraw': True,\n",
       " 'canDeposit': True,\n",
       " 'brokered': False,\n",
       " 'requireSelfTradePrevention': False,\n",
       " 'preventSor': False,\n",
       " 'updateTime': 1738615718764,\n",
       " 'accountType': 'SPOT',\n",
       " 'balances': [{'asset': 'BTC', 'free': '0.00015123', 'locked': '0.00000000'},\n",
       "  {'asset': 'EPX', 'free': '0.34300000', 'locked': '0.00000000'},\n",
       "  {'asset': 'PEPE', 'free': '0.62', 'locked': '0.00'},\n",
       "  {'asset': 'NEIRO', 'free': '0.14', 'locked': '0.00'}],\n",
       " 'permissions': ['TRD_GRP_010'],\n",
       " 'uid': 849963902}"
      ]
     },
     "execution_count": 2,
     "metadata": {},
     "output_type": "execute_result"
    }
   ],
   "source": [
    "from dotenv import load_dotenv\n",
    "\n",
    "load_dotenv()\n",
    "\n",
    "API_KEY = os.getenv(\"BINANCE_API_KEY\")\n",
    "if not API_KEY:\n",
    "    raise ValueError(\"BINANCE_API_KEY is not set\")\n",
    "\n",
    "API_SECRET = os.getenv(\"BINANCE_API_SECRET\")\n",
    "if not API_SECRET:\n",
    "    raise ValueError(\"BINANCE_API_SECRET is not set\")\n",
    "\n",
    "get_account_info(API_KEY, API_SECRET)"
   ]
  }
 ],
 "metadata": {
  "kernelspec": {
   "display_name": ".venv",
   "language": "python",
   "name": "python3"
  },
  "language_info": {
   "codemirror_mode": {
    "name": "ipython",
    "version": 3
   },
   "file_extension": ".py",
   "mimetype": "text/x-python",
   "name": "python",
   "nbconvert_exporter": "python",
   "pygments_lexer": "ipython3",
   "version": "3.13.1"
  }
 },
 "nbformat": 4,
 "nbformat_minor": 2
}
