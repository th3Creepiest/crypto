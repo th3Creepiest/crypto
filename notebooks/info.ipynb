{
 "cells": [
  {
   "cell_type": "code",
   "execution_count": 1,
   "metadata": {},
   "outputs": [],
   "source": [
    "import os\n",
    "import sys\n",
    "import json\n",
    "from datetime import datetime\n",
    "\n",
    "project_path = os.path.abspath(os.path.join(os.getcwd(), \"..\"))\n",
    "\n",
    "if project_path not in sys.path:\n",
    "    sys.path.append(project_path)\n",
    "\n",
    "from binance import get_exchange_info\n",
    "from kraken import get_asset_info"
   ]
  },
  {
   "cell_type": "code",
   "execution_count": 2,
   "metadata": {},
   "outputs": [],
   "source": [
    "BINANCE_CACHE = \"../cache/info/binance/\"\n",
    "KRAKEN_CACHE = \"../cache/info/kraken/\""
   ]
  },
  {
   "cell_type": "markdown",
   "metadata": {},
   "source": [
    "# Binance"
   ]
  },
  {
   "cell_type": "code",
   "execution_count": 3,
   "metadata": {},
   "outputs": [],
   "source": [
    "with open(f\"{BINANCE_CACHE}{sorted(os.listdir(BINANCE_CACHE))[-1]}\", \"r\") as f:\n",
    "    binance_old_info = json.load(f)"
   ]
  },
  {
   "cell_type": "code",
   "execution_count": 4,
   "metadata": {},
   "outputs": [],
   "source": [
    "binance_new_info = get_exchange_info()\n",
    "\n",
    "timestamp = datetime.fromtimestamp(binance_new_info[\"serverTime\"] / 1000).strftime(\"%Y-%m-%d_%H-%M-%S\")\n",
    "with open(f\"{BINANCE_CACHE}{timestamp}.json\", \"w\") as f:\n",
    "    json.dump(binance_new_info, f, indent=4)"
   ]
  },
  {
   "cell_type": "code",
   "execution_count": 5,
   "metadata": {},
   "outputs": [
    {
     "data": {
      "text/plain": [
       "556"
      ]
     },
     "execution_count": 5,
     "metadata": {},
     "output_type": "execute_result"
    }
   ],
   "source": [
    "binance_old_coins = sorted([coin[\"symbol\"].removesuffix(\"USDT\") for coin in binance_old_info[\"symbols\"] if coin[\"quoteAsset\"] == \"USDT\"])\n",
    "len(binance_old_coins)"
   ]
  },
  {
   "cell_type": "code",
   "execution_count": 6,
   "metadata": {},
   "outputs": [
    {
     "data": {
      "text/plain": [
       "566"
      ]
     },
     "execution_count": 6,
     "metadata": {},
     "output_type": "execute_result"
    }
   ],
   "source": [
    "binance_new_coins = sorted([coin[\"symbol\"].removesuffix(\"USDT\") for coin in binance_new_info[\"symbols\"] if coin[\"quoteAsset\"] == \"USDT\"])\n",
    "len(binance_new_coins)"
   ]
  },
  {
   "cell_type": "code",
   "execution_count": 7,
   "metadata": {},
   "outputs": [
    {
     "name": "stdout",
     "output_type": "stream",
     "text": [
      "10\n",
      "['BANANAS31', 'BMT', 'BROCCOLI714', 'EPIC', 'FORM', 'MUBARAK', 'NIL', 'PARTI', 'TUT', 'XUSD']\n"
     ]
    }
   ],
   "source": [
    "binance_new_entries = [coin for coin in binance_new_coins if coin not in binance_old_coins]\n",
    "print(len(binance_new_entries))\n",
    "\n",
    "if binance_new_entries:\n",
    "    print(binance_new_entries)"
   ]
  },
  {
   "cell_type": "code",
   "execution_count": 8,
   "metadata": {},
   "outputs": [
    {
     "name": "stdout",
     "output_type": "stream",
     "text": [
      "0\n"
     ]
    }
   ],
   "source": [
    "binance_eliminated_coins = [coin for coin in binance_old_coins if coin not in binance_new_coins]\n",
    "print(len(binance_eliminated_coins))\n",
    "\n",
    "if binance_eliminated_coins:\n",
    "    print(binance_eliminated_coins)"
   ]
  },
  {
   "cell_type": "markdown",
   "metadata": {},
   "source": [
    "# Kraken"
   ]
  },
  {
   "cell_type": "code",
   "execution_count": 9,
   "metadata": {},
   "outputs": [],
   "source": [
    "with open(f\"{KRAKEN_CACHE}{sorted(os.listdir(KRAKEN_CACHE))[-1]}\", \"r\") as f:\n",
    "    kraken_old_info = json.load(f)"
   ]
  },
  {
   "cell_type": "code",
   "execution_count": 10,
   "metadata": {},
   "outputs": [],
   "source": [
    "kraken_new_info = get_asset_info()\n",
    "\n",
    "with open(f\"{KRAKEN_CACHE}{datetime.strftime(datetime.now(), \"%Y-%m-%d_%H-%M-%S\")}.json\", \"w\") as f:\n",
    "    json.dump(kraken_new_info, f, indent=4)"
   ]
  },
  {
   "cell_type": "code",
   "execution_count": 11,
   "metadata": {},
   "outputs": [
    {
     "data": {
      "text/plain": [
       "428"
      ]
     },
     "execution_count": 11,
     "metadata": {},
     "output_type": "execute_result"
    }
   ],
   "source": [
    "kraken_old_coins = list(kraken_old_info[\"result\"].keys())\n",
    "len(kraken_old_coins)"
   ]
  },
  {
   "cell_type": "code",
   "execution_count": 12,
   "metadata": {},
   "outputs": [
    {
     "data": {
      "text/plain": [
       "439"
      ]
     },
     "execution_count": 12,
     "metadata": {},
     "output_type": "execute_result"
    }
   ],
   "source": [
    "kraken_new_coins = list(kraken_new_info[\"result\"].keys())\n",
    "len(kraken_new_coins)"
   ]
  },
  {
   "cell_type": "code",
   "execution_count": 13,
   "metadata": {},
   "outputs": [
    {
     "name": "stdout",
     "output_type": "stream",
     "text": [
      "12\n",
      "['APENFT', 'B3', 'BMT', 'CORN', 'DUCK', 'EUROP', 'GHIBLI', 'LSETH', 'NIL', 'SPICE', 'TERM', 'WAL']\n"
     ]
    }
   ],
   "source": [
    "kraken_new_entries = [coin for coin in kraken_new_coins if coin not in kraken_old_coins]\n",
    "print(len(kraken_new_entries))\n",
    "\n",
    "if kraken_new_entries:\n",
    "    print(kraken_new_entries)"
   ]
  },
  {
   "cell_type": "code",
   "execution_count": 14,
   "metadata": {},
   "outputs": [
    {
     "name": "stdout",
     "output_type": "stream",
     "text": [
      "1\n",
      "['ANT']\n"
     ]
    }
   ],
   "source": [
    "kraken_eliminated_coins = [coin for coin in kraken_old_coins if coin not in kraken_new_coins]\n",
    "print(len(kraken_eliminated_coins))\n",
    "\n",
    "if kraken_eliminated_coins:\n",
    "    print(kraken_eliminated_coins)"
   ]
  },
  {
   "cell_type": "markdown",
   "metadata": {},
   "source": [
    "# Comparison"
   ]
  },
  {
   "cell_type": "code",
   "execution_count": 15,
   "metadata": {},
   "outputs": [
    {
     "data": {
      "text/plain": [
       "227"
      ]
     },
     "execution_count": 15,
     "metadata": {},
     "output_type": "execute_result"
    }
   ],
   "source": [
    "shared_coins = [coin for coin in binance_new_coins if coin in kraken_new_coins]\n",
    "len(shared_coins)"
   ]
  },
  {
   "cell_type": "code",
   "execution_count": 16,
   "metadata": {},
   "outputs": [
    {
     "data": {
      "text/plain": [
       "339"
      ]
     },
     "execution_count": 16,
     "metadata": {},
     "output_type": "execute_result"
    }
   ],
   "source": [
    "binance_unique_coins = [coin for coin in binance_new_coins if coin not in kraken_new_coins]\n",
    "len(binance_unique_coins)"
   ]
  },
  {
   "cell_type": "code",
   "execution_count": 17,
   "metadata": {},
   "outputs": [
    {
     "data": {
      "text/plain": [
       "212"
      ]
     },
     "execution_count": 17,
     "metadata": {},
     "output_type": "execute_result"
    }
   ],
   "source": [
    "kraken_unique_coins = [coin for coin in kraken_new_coins if coin not in binance_new_coins]\n",
    "len(kraken_unique_coins)"
   ]
  }
 ],
 "metadata": {
  "kernelspec": {
   "display_name": ".venv",
   "language": "python",
   "name": "python3"
  },
  "language_info": {
   "codemirror_mode": {
    "name": "ipython",
    "version": 3
   },
   "file_extension": ".py",
   "mimetype": "text/x-python",
   "name": "python",
   "nbconvert_exporter": "python",
   "pygments_lexer": "ipython3",
   "version": "3.13.1"
  }
 },
 "nbformat": 4,
 "nbformat_minor": 2
}
