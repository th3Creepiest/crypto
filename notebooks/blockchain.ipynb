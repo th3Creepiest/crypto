{
 "cells": [
  {
   "cell_type": "code",
   "execution_count": 1,
   "metadata": {},
   "outputs": [
    {
     "data": {
      "text/plain": [
       "[Block(90b10704c0f5d8fc2c006bd49d82d03581f3e4fb23d6d24b4be5c21e9a958f6f),\n",
       " Block(cab11d6a5a77fc97ea677f4a51758d6cbd74f3a6ba41546b92909e41070d5e74),\n",
       " Block(c205d85e769dccd75a5cdec9addb74efc8c7b8b3f21cff3ce004645e6c2df299),\n",
       " Block(6c9ebec332890c58064aeabbe2e3f10b0ac157911bf35d67d6ab4f9a3d4291a2)]"
      ]
     },
     "execution_count": 1,
     "metadata": {},
     "output_type": "execute_result"
    }
   ],
   "source": [
    "from hashlib import sha256\n",
    "\n",
    "\n",
    "class Block:\n",
    "\n",
    "    def __init__(self, hash: str, data: str):\n",
    "        self.data: str = data\n",
    "        self.hash: str = sha256((hash + data).encode()).hexdigest()\n",
    "\n",
    "    def __repr__(self):\n",
    "        return f\"Block({self.hash})\"\n",
    "\n",
    "\n",
    "class BlockChain(list):\n",
    "    def append(self, block: Block):\n",
    "        super().append(block)\n",
    "\n",
    "\n",
    "blockchain = BlockChain()\n",
    "blockchain.append(Block(hash=\"I am Genesis...\", data=\"Hello, World!\"))\n",
    "blockchain.append(Block(hash=blockchain[-1].hash, data=\"foo\"))\n",
    "blockchain.append(Block(hash=blockchain[-1].hash, data=\"bar\"))\n",
    "blockchain.append(Block(hash=blockchain[-1].hash, data=\"baz\"))\n",
    "blockchain"
   ]
  }
 ],
 "metadata": {
  "kernelspec": {
   "display_name": ".venv",
   "language": "python",
   "name": "python3"
  },
  "language_info": {
   "codemirror_mode": {
    "name": "ipython",
    "version": 3
   },
   "file_extension": ".py",
   "mimetype": "text/x-python",
   "name": "python",
   "nbconvert_exporter": "python",
   "pygments_lexer": "ipython3",
   "version": "3.13.1"
  }
 },
 "nbformat": 4,
 "nbformat_minor": 2
}
